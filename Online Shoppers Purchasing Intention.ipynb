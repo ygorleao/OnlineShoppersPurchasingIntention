{
  "cells":[
    {
      "cell_type":"markdown",
      "source":[
        "# Mini Projeto DSA"
      ],
      "metadata":{
        
      }
    },
    {
      "cell_type":"markdown",
      "source":[
        "#### <link>https:\/\/archive.ics.uci.edu\/ml\/datasets\/Online+Shoppers+Purchasing+Intention+Dataset#<\/link>"
      ],
      "metadata":{
        
      }
    },
    {
      "cell_type":"code",
      "source":[
        "# Imports\n",
        "import numpy as np\n",
        "import pandas as pd\n",
        "import seaborn as sns\n",
        "import matplotlib.pyplot as plt\n",
        "\n",
        "from sklearn.preprocessing import StandardScaler\n",
        "from sklearn.preprocessing import LabelEncoder\n",
        "from sklearn.model_selection import train_test_split\n",
        "from sklearn.model_selection import GridSearchCV\n",
        "from sklearn.metrics import precision_score, recall_score, f1_score, accuracy_score, roc_auc_score\n",
        "from sklearn import svm\n",
        "\n",
        "import imblearn\n",
        "from imblearn.over_sampling import SMOTE\n",
        "\n",
        "import time\n",
        "import sklearn\n",
        "import matplotlib\n",
        "import warnings\n",
        "warnings.filterwarnings('ignore')"
      ],
      "execution_count":1,
      "outputs":[
        
      ],
      "metadata":{
        
      }
    },
    {
      "cell_type":"code",
      "source":[
        "# Carregando os Dados\n",
        "df_original = pd.read_csv('online_shoppers_intention.csv')\n",
        "df_original.head()"
      ],
      "execution_count":2,
      "outputs":[
        {
          "data":{
            "text\/html":[
              "<div>\n",
              "<style scoped>\n",
              "    .dataframe tbody tr th:only-of-type {\n",
              "        vertical-align: middle;\n",
              "    }\n",
              "\n",
              "    .dataframe tbody tr th {\n",
              "        vertical-align: top;\n",
              "    }\n",
              "\n",
              "    .dataframe thead th {\n",
              "        text-align: right;\n",
              "    }\n",
              "<\/style>\n",
              "<table border=\"1\" class=\"dataframe\">\n",
              "  <thead>\n",
              "    <tr style=\"text-align: right;\">\n",
              "      <th><\/th>\n",
              "      <th>Administrative<\/th>\n",
              "      <th>Administrative_Duration<\/th>\n",
              "      <th>Informational<\/th>\n",
              "      <th>Informational_Duration<\/th>\n",
              "      <th>ProductRelated<\/th>\n",
              "      <th>ProductRelated_Duration<\/th>\n",
              "      <th>BounceRates<\/th>\n",
              "      <th>ExitRates<\/th>\n",
              "      <th>PageValues<\/th>\n",
              "      <th>SpecialDay<\/th>\n",
              "      <th>Month<\/th>\n",
              "      <th>OperatingSystems<\/th>\n",
              "      <th>Browser<\/th>\n",
              "      <th>Region<\/th>\n",
              "      <th>TrafficType<\/th>\n",
              "      <th>VisitorType<\/th>\n",
              "      <th>Weekend<\/th>\n",
              "      <th>Revenue<\/th>\n",
              "    <\/tr>\n",
              "  <\/thead>\n",
              "  <tbody>\n",
              "    <tr>\n",
              "      <th>0<\/th>\n",
              "      <td>0<\/td>\n",
              "      <td>0.0<\/td>\n",
              "      <td>0<\/td>\n",
              "      <td>0.0<\/td>\n",
              "      <td>1<\/td>\n",
              "      <td>0.000000<\/td>\n",
              "      <td>0.20<\/td>\n",
              "      <td>0.20<\/td>\n",
              "      <td>0.0<\/td>\n",
              "      <td>0.0<\/td>\n",
              "      <td>Feb<\/td>\n",
              "      <td>1<\/td>\n",
              "      <td>1<\/td>\n",
              "      <td>1<\/td>\n",
              "      <td>1<\/td>\n",
              "      <td>Returning_Visitor<\/td>\n",
              "      <td>False<\/td>\n",
              "      <td>False<\/td>\n",
              "    <\/tr>\n",
              "    <tr>\n",
              "      <th>1<\/th>\n",
              "      <td>0<\/td>\n",
              "      <td>0.0<\/td>\n",
              "      <td>0<\/td>\n",
              "      <td>0.0<\/td>\n",
              "      <td>2<\/td>\n",
              "      <td>64.000000<\/td>\n",
              "      <td>0.00<\/td>\n",
              "      <td>0.10<\/td>\n",
              "      <td>0.0<\/td>\n",
              "      <td>0.0<\/td>\n",
              "      <td>Feb<\/td>\n",
              "      <td>2<\/td>\n",
              "      <td>2<\/td>\n",
              "      <td>1<\/td>\n",
              "      <td>2<\/td>\n",
              "      <td>Returning_Visitor<\/td>\n",
              "      <td>False<\/td>\n",
              "      <td>False<\/td>\n",
              "    <\/tr>\n",
              "    <tr>\n",
              "      <th>2<\/th>\n",
              "      <td>0<\/td>\n",
              "      <td>0.0<\/td>\n",
              "      <td>0<\/td>\n",
              "      <td>0.0<\/td>\n",
              "      <td>1<\/td>\n",
              "      <td>0.000000<\/td>\n",
              "      <td>0.20<\/td>\n",
              "      <td>0.20<\/td>\n",
              "      <td>0.0<\/td>\n",
              "      <td>0.0<\/td>\n",
              "      <td>Feb<\/td>\n",
              "      <td>4<\/td>\n",
              "      <td>1<\/td>\n",
              "      <td>9<\/td>\n",
              "      <td>3<\/td>\n",
              "      <td>Returning_Visitor<\/td>\n",
              "      <td>False<\/td>\n",
              "      <td>False<\/td>\n",
              "    <\/tr>\n",
              "    <tr>\n",
              "      <th>3<\/th>\n",
              "      <td>0<\/td>\n",
              "      <td>0.0<\/td>\n",
              "      <td>0<\/td>\n",
              "      <td>0.0<\/td>\n",
              "      <td>2<\/td>\n",
              "      <td>2.666667<\/td>\n",
              "      <td>0.05<\/td>\n",
              "      <td>0.14<\/td>\n",
              "      <td>0.0<\/td>\n",
              "      <td>0.0<\/td>\n",
              "      <td>Feb<\/td>\n",
              "      <td>3<\/td>\n",
              "      <td>2<\/td>\n",
              "      <td>2<\/td>\n",
              "      <td>4<\/td>\n",
              "      <td>Returning_Visitor<\/td>\n",
              "      <td>False<\/td>\n",
              "      <td>False<\/td>\n",
              "    <\/tr>\n",
              "    <tr>\n",
              "      <th>4<\/th>\n",
              "      <td>0<\/td>\n",
              "      <td>0.0<\/td>\n",
              "      <td>0<\/td>\n",
              "      <td>0.0<\/td>\n",
              "      <td>10<\/td>\n",
              "      <td>627.500000<\/td>\n",
              "      <td>0.02<\/td>\n",
              "      <td>0.05<\/td>\n",
              "      <td>0.0<\/td>\n",
              "      <td>0.0<\/td>\n",
              "      <td>Feb<\/td>\n",
              "      <td>3<\/td>\n",
              "      <td>3<\/td>\n",
              "      <td>1<\/td>\n",
              "      <td>4<\/td>\n",
              "      <td>Returning_Visitor<\/td>\n",
              "      <td>True<\/td>\n",
              "      <td>False<\/td>\n",
              "    <\/tr>\n",
              "  <\/tbody>\n",
              "<\/table>\n",
              "<\/div>"
            ]
          },
          "metadata":{
            
          },
          "output_type":"display_data"
        }
      ],
      "metadata":{
        
      }
    },
    {
      "cell_type":"markdown",
      "source":[
        "### Análise Exploratória"
      ],
      "metadata":{
        
      }
    },
    {
      "cell_type":"code",
      "source":[
        "df_original.shape"
      ],
      "execution_count":3,
      "outputs":[
        {
          "data":{
            "text\/plain":[
              "(12330, 18)"
            ]
          },
          "metadata":{
            
          },
          "output_type":"display_data"
        }
      ],
      "metadata":{
        
      }
    },
    {
      "cell_type":"code",
      "source":[
        "df_original .dtypes"
      ],
      "execution_count":4,
      "outputs":[
        {
          "data":{
            "text\/plain":[
              "Administrative               int64\n",
              "Administrative_Duration    float64\n",
              "Informational                int64\n",
              "Informational_Duration     float64\n",
              "ProductRelated               int64\n",
              "ProductRelated_Duration    float64\n",
              "BounceRates                float64\n",
              "ExitRates                  float64\n",
              "PageValues                 float64\n",
              "SpecialDay                 float64\n",
              "Month                       object\n",
              "OperatingSystems             int64\n",
              "Browser                      int64\n",
              "Region                       int64\n",
              "TrafficType                  int64\n",
              "VisitorType                 object\n",
              "Weekend                       bool\n",
              "Revenue                       bool\n",
              "dtype: object"
            ]
          },
          "metadata":{
            
          },
          "output_type":"display_data"
        }
      ],
      "metadata":{
        
      }
    },
    {
      "cell_type":"code",
      "source":[
        "df_original.isna().sum()"
      ],
      "execution_count":5,
      "outputs":[
        {
          "data":{
            "text\/plain":[
              "Administrative             0\n",
              "Administrative_Duration    0\n",
              "Informational              0\n",
              "Informational_Duration     0\n",
              "ProductRelated             0\n",
              "ProductRelated_Duration    0\n",
              "BounceRates                0\n",
              "ExitRates                  0\n",
              "PageValues                 0\n",
              "SpecialDay                 0\n",
              "Month                      0\n",
              "OperatingSystems           0\n",
              "Browser                    0\n",
              "Region                     0\n",
              "TrafficType                0\n",
              "VisitorType                0\n",
              "Weekend                    0\n",
              "Revenue                    0\n",
              "dtype: int64"
            ]
          },
          "metadata":{
            
          },
          "output_type":"display_data"
        }
      ],
      "metadata":{
        
      }
    },
    {
      "cell_type":"code",
      "source":[
        "df_original.nunique()"
      ],
      "execution_count":6,
      "outputs":[
        {
          "data":{
            "text\/plain":[
              "Administrative               27\n",
              "Administrative_Duration    3335\n",
              "Informational                17\n",
              "Informational_Duration     1258\n",
              "ProductRelated              311\n",
              "ProductRelated_Duration    9551\n",
              "BounceRates                1872\n",
              "ExitRates                  4777\n",
              "PageValues                 2704\n",
              "SpecialDay                    6\n",
              "Month                        10\n",
              "OperatingSystems              8\n",
              "Browser                      13\n",
              "Region                        9\n",
              "TrafficType                  20\n",
              "VisitorType                   3\n",
              "Weekend                       2\n",
              "Revenue                       2\n",
              "dtype: int64"
            ]
          },
          "metadata":{
            
          },
          "output_type":"display_data"
        }
      ],
      "metadata":{
        
      }
    },
    {
      "cell_type":"code",
      "source":[
        "# Preparando os dados para o plot\n",
        "\n",
        "# Cria uma cópia do dataset original\n",
        "df = df_original.copy()\n",
        "\n",
        "# Listas vazias para os resultados\n",
        "continuous = []\n",
        "categorical = []\n",
        "\n",
        "# Loop pelas colunas\n",
        "for c in df.columns[:-1]:\n",
        "    if df.nunique()[c] >= 30:\n",
        "        continuous.append(c)\n",
        "    else:\n",
        "        categorical.append(c)"
      ],
      "execution_count":7,
      "outputs":[
        
      ],
      "metadata":{
        
      }
    },
    {
      "cell_type":"code",
      "source":[
        "continuous"
      ],
      "execution_count":8,
      "outputs":[
        {
          "data":{
            "text\/plain":[
              "['Administrative_Duration',\n",
              " 'Informational_Duration',\n",
              " 'ProductRelated',\n",
              " 'ProductRelated_Duration',\n",
              " 'BounceRates',\n",
              " 'ExitRates',\n",
              " 'PageValues']"
            ]
          },
          "metadata":{
            
          },
          "output_type":"display_data"
        }
      ],
      "metadata":{
        
      }
    },
    {
      "cell_type":"code",
      "source":[
        "# Variáveis Contínuas\n",
        "df[continuous].head()"
      ],
      "execution_count":9,
      "outputs":[
        {
          "data":{
            "text\/html":[
              "<div>\n",
              "<style scoped>\n",
              "    .dataframe tbody tr th:only-of-type {\n",
              "        vertical-align: middle;\n",
              "    }\n",
              "\n",
              "    .dataframe tbody tr th {\n",
              "        vertical-align: top;\n",
              "    }\n",
              "\n",
              "    .dataframe thead th {\n",
              "        text-align: right;\n",
              "    }\n",
              "<\/style>\n",
              "<table border=\"1\" class=\"dataframe\">\n",
              "  <thead>\n",
              "    <tr style=\"text-align: right;\">\n",
              "      <th><\/th>\n",
              "      <th>Administrative_Duration<\/th>\n",
              "      <th>Informational_Duration<\/th>\n",
              "      <th>ProductRelated<\/th>\n",
              "      <th>ProductRelated_Duration<\/th>\n",
              "      <th>BounceRates<\/th>\n",
              "      <th>ExitRates<\/th>\n",
              "      <th>PageValues<\/th>\n",
              "    <\/tr>\n",
              "  <\/thead>\n",
              "  <tbody>\n",
              "    <tr>\n",
              "      <th>0<\/th>\n",
              "      <td>0.0<\/td>\n",
              "      <td>0.0<\/td>\n",
              "      <td>1<\/td>\n",
              "      <td>0.000000<\/td>\n",
              "      <td>0.20<\/td>\n",
              "      <td>0.20<\/td>\n",
              "      <td>0.0<\/td>\n",
              "    <\/tr>\n",
              "    <tr>\n",
              "      <th>1<\/th>\n",
              "      <td>0.0<\/td>\n",
              "      <td>0.0<\/td>\n",
              "      <td>2<\/td>\n",
              "      <td>64.000000<\/td>\n",
              "      <td>0.00<\/td>\n",
              "      <td>0.10<\/td>\n",
              "      <td>0.0<\/td>\n",
              "    <\/tr>\n",
              "    <tr>\n",
              "      <th>2<\/th>\n",
              "      <td>0.0<\/td>\n",
              "      <td>0.0<\/td>\n",
              "      <td>1<\/td>\n",
              "      <td>0.000000<\/td>\n",
              "      <td>0.20<\/td>\n",
              "      <td>0.20<\/td>\n",
              "      <td>0.0<\/td>\n",
              "    <\/tr>\n",
              "    <tr>\n",
              "      <th>3<\/th>\n",
              "      <td>0.0<\/td>\n",
              "      <td>0.0<\/td>\n",
              "      <td>2<\/td>\n",
              "      <td>2.666667<\/td>\n",
              "      <td>0.05<\/td>\n",
              "      <td>0.14<\/td>\n",
              "      <td>0.0<\/td>\n",
              "    <\/tr>\n",
              "    <tr>\n",
              "      <th>4<\/th>\n",
              "      <td>0.0<\/td>\n",
              "      <td>0.0<\/td>\n",
              "      <td>10<\/td>\n",
              "      <td>627.500000<\/td>\n",
              "      <td>0.02<\/td>\n",
              "      <td>0.05<\/td>\n",
              "      <td>0.0<\/td>\n",
              "    <\/tr>\n",
              "  <\/tbody>\n",
              "<\/table>\n",
              "<\/div>"
            ]
          },
          "metadata":{
            
          },
          "output_type":"display_data"
        }
      ],
      "metadata":{
        
      }
    },
    {
      "cell_type":"code",
      "source":[
        "# Plot das Varíaveis Contínuas\n",
        "\n",
        "# Tamanho da área de plotagem\n",
        "fig = plt.figure(figsize= (12,8))\n",
        "\n",
        "# Loop pelas variáveis contínuas\n",
        "for i, col in enumerate(continuous):\n",
        "    plt.subplot(3, 3, i + 1)\n",
        "    df.boxplot(col)\n",
        "    plt.tight_layout()"
      ],
      "execution_count":10,
      "outputs":[
        {
          "data":{
            "image\/png":"[encoded data removed]"
          },
          "metadata":{
            "image\/png":{
              "width":0,
              "height":0
            }
          },
          "output_type":"display_data"
        }
      ],
      "metadata":{
        
      }
    },
    {
      "cell_type":"code",
      "source":[
        "# Transformação de log nas variáveis contínuas\n",
        "df[continuous] = np.log1p(1 + df[continuous])"
      ],
      "execution_count":11,
      "outputs":[
        
      ],
      "metadata":{
        
      }
    },
    {
      "cell_type":"code",
      "source":[
        "continuous"
      ],
      "execution_count":12,
      "outputs":[
        {
          "data":{
            "text\/plain":[
              "['Administrative_Duration',\n",
              " 'Informational_Duration',\n",
              " 'ProductRelated',\n",
              " 'ProductRelated_Duration',\n",
              " 'BounceRates',\n",
              " 'ExitRates',\n",
              " 'PageValues']"
            ]
          },
          "metadata":{
            
          },
          "output_type":"display_data"
        }
      ],
      "metadata":{
        
      }
    },
    {
      "cell_type":"code",
      "source":[
        "# Matriz de Correlação entre variáveis contínuas\n",
        "\n",
        "# Área de Plotagem\n",
        "plt.figure(figsize= (10,10))\n",
        "\n",
        "# Matriz de Correlação\n",
        "sns.heatmap(df[continuous].corr(), vmax = 1., square = True)"
      ],
      "execution_count":13,
      "outputs":[
        {
          "data":{
            "text\/plain":[
              "<matplotlib.axes._subplots.AxesSubplot at 0x7f0dbcb98b90>"
            ],
            "image\/png":"[encoded data removed]"
          },
          "metadata":{
            "image\/png":{
              "width":0,
              "height":0
            }
          },
          "output_type":"display_data"
        }
      ],
      "metadata":{
        
      }
    },
    {
      "cell_type":"code",
      "source":[
        "# Countplot Venda ou Não\n",
        "plt.subplot(1, 2, 2)\n",
        "plt.title(\"Venda ou Não\")\n",
        "sns.countplot(df[\"Revenue\"])"
      ],
      "execution_count":14,
      "outputs":[
        {
          "data":{
            "text\/plain":[
              "<matplotlib.axes._subplots.AxesSubplot at 0x7f0dba0103d0>"
            ],
            "image\/png":"[encoded data removed]"
          },
          "metadata":{
            "image\/png":{
              "width":0,
              "height":0
            }
          },
          "output_type":"display_data"
        }
      ],
      "metadata":{
        
      }
    },
    {
      "cell_type":"code",
      "source":[
        "# Countplot Tipo de Visitante\n",
        "plt.xlabel(\"Tipo de Visitante\")\n",
        "sns.countplot(df['VisitorType'])"
      ],
      "execution_count":15,
      "outputs":[
        {
          "data":{
            "text\/plain":[
              "<matplotlib.axes._subplots.AxesSubplot at 0x7f0db9fc1dd0>"
            ],
            "image\/png":"[encoded data removed]"
          },
          "metadata":{
            "image\/png":{
              "width":0,
              "height":0
            }
          },
          "output_type":"display_data"
        }
      ],
      "metadata":{
        
      }
    },
    {
      "cell_type":"code",
      "source":[
        "# Stacked Bar Tipo de Visitante x Revenue\n",
        "pd.crosstab(df['VisitorType'], df['Revenue']).plot(kind = 'bar', stacked = True, figsize = (15,5), color = ['orange', 'green'])"
      ],
      "execution_count":16,
      "outputs":[
        {
          "data":{
            "text\/plain":[
              "<matplotlib.axes._subplots.AxesSubplot at 0x7f0db9f23f50>"
            ],
            "image\/png":"[encoded data removed]"
          },
          "metadata":{
            "image\/png":{
              "width":0,
              "height":0
            }
          },
          "output_type":"display_data"
        }
      ],
      "metadata":{
        
      }
    },
    {
      "cell_type":"code",
      "source":[
        "# Pie Chart Tipos de Visitantes\n",
        "labels = ['Visitante_Retornando', 'Novo_Visitante', 'Outro']\n",
        "plt.title(\"Tipos de Visitantes\")\n",
        "plt.pie(df[\"VisitorType\"].value_counts(), labels = labels, autopct = '%.2f%%')\n",
        "plt.legend()"
      ],
      "execution_count":17,
      "outputs":[
        {
          "data":{
            "text\/plain":[
              "<matplotlib.legend.Legend at 0x7f0dbcb90390>"
            ],
            "image\/png":"[encoded data removed]"
          },
          "metadata":{
            "image\/png":{
              "width":0,
              "height":0
            }
          },
          "output_type":"display_data"
        }
      ],
      "metadata":{
        
      }
    },
    {
      "cell_type":"code",
      "source":[
        "# Countplot Final de Semana ou Não\n",
        "plt.subplot(1,2,1)\n",
        "plt.title(\"Final de Semana ou Não\")\n",
        "sns.countplot(df['Weekend'])"
      ],
      "execution_count":18,
      "outputs":[
        {
          "data":{
            "text\/plain":[
              "<matplotlib.axes._subplots.AxesSubplot at 0x7f0db9e1d5d0>"
            ],
            "image\/png":"[encoded data removed]"
          },
          "metadata":{
            "image\/png":{
              "width":0,
              "height":0
            }
          },
          "output_type":"display_data"
        }
      ],
      "metadata":{
        
      }
    },
    {
      "cell_type":"code",
      "source":[
        "# Stacked Bar Final de Semana x Revenue\n",
        "pd.crosstab(df['Weekend'], df['Revenue']).plot(kind='bar', stacked = True, figsize = (15,5), color = ['orange', 'green'])"
      ],
      "execution_count":19,
      "outputs":[
        {
          "data":{
            "text\/plain":[
              "<matplotlib.axes._subplots.AxesSubplot at 0x7f0db9d85090>"
            ],
            "image\/png":"[encoded data removed]"
          },
          "metadata":{
            "image\/png":{
              "width":0,
              "height":0
            }
          },
          "output_type":"display_data"
        }
      ],
      "metadata":{
        
      }
    },
    {
      "cell_type":"code",
      "source":[
        "#  Countplot Tipos de Sistemas Operacionais\n",
        "plt.title(\"Tipos de Sistemas Operacionais\")\n",
        "plt.xlabel(\"Sistema Operacional Usado\")\n",
        "sns.countplot(df['OperatingSystems'])"
      ],
      "execution_count":20,
      "outputs":[
        {
          "data":{
            "text\/plain":[
              "<matplotlib.axes._subplots.AxesSubplot at 0x7f0db9cfbb50>"
            ],
            "image\/png":"[encoded data removed]"
          },
          "metadata":{
            "image\/png":{
              "width":0,
              "height":0
            }
          },
          "output_type":"display_data"
        }
      ],
      "metadata":{
        
      }
    },
    {
      "cell_type":"code",
      "source":[
        "# Stacked Bar Tipo de SO x Revenue\n",
        "pd.crosstab(df['OperatingSystems'], df['Revenue']).plot(kind = 'bar', stacked = True, figsize = (15,5), color = ['orange', 'green'])"
      ],
      "execution_count":21,
      "outputs":[
        {
          "data":{
            "text\/plain":[
              "<matplotlib.axes._subplots.AxesSubplot at 0x7f0db9c71650>"
            ],
            "image\/png":"[encoded data removed]"
          },
          "metadata":{
            "image\/png":{
              "width":0,
              "height":0
            }
          },
          "output_type":"display_data"
        }
      ],
      "metadata":{
        
      }
    },
    {
      "cell_type":"code",
      "source":[
        "# Countplot Tipo de Tráfego\n",
        "plt.title(\"Tipos de Tráfego\")\n",
        "plt.xlabel(\"Tipo de Trafégo\")\n",
        "sns.countplot(df['TrafficType'])"
      ],
      "execution_count":22,
      "outputs":[
        {
          "data":{
            "text\/plain":[
              "<matplotlib.axes._subplots.AxesSubplot at 0x7f0db9b9f210>"
            ],
            "image\/png":"[encoded data removed]"
          },
          "metadata":{
            "image\/png":{
              "width":0,
              "height":0
            }
          },
          "output_type":"display_data"
        }
      ],
      "metadata":{
        
      }
    },
    {
      "cell_type":"code",
      "source":[
        "# Stacked Bar Tipos de Tráfego x Revenue\n",
        "pd.crosstab(df['TrafficType'], df['Revenue']).plot(kind='bar', stacked = True, figsize = (15, 5), color= ['orange', 'green'])"
      ],
      "execution_count":23,
      "outputs":[
        {
          "data":{
            "text\/plain":[
              "<matplotlib.axes._subplots.AxesSubplot at 0x7f0db9ae1390>"
            ],
            "image\/png":"[encoded data removed]"
          },
          "metadata":{
            "image\/png":{
              "width":0,
              "height":0
            }
          },
          "output_type":"display_data"
        }
      ],
      "metadata":{
        
      }
    },
    {
      "cell_type":"markdown",
      "source":[
        "## Pré-Processamento dos Dados"
      ],
      "metadata":{
        
      }
    },
    {
      "cell_type":"code",
      "source":[
        "df_original.head()"
      ],
      "execution_count":24,
      "outputs":[
        {
          "data":{
            "text\/html":[
              "<div>\n",
              "<style scoped>\n",
              "    .dataframe tbody tr th:only-of-type {\n",
              "        vertical-align: middle;\n",
              "    }\n",
              "\n",
              "    .dataframe tbody tr th {\n",
              "        vertical-align: top;\n",
              "    }\n",
              "\n",
              "    .dataframe thead th {\n",
              "        text-align: right;\n",
              "    }\n",
              "<\/style>\n",
              "<table border=\"1\" class=\"dataframe\">\n",
              "  <thead>\n",
              "    <tr style=\"text-align: right;\">\n",
              "      <th><\/th>\n",
              "      <th>Administrative<\/th>\n",
              "      <th>Administrative_Duration<\/th>\n",
              "      <th>Informational<\/th>\n",
              "      <th>Informational_Duration<\/th>\n",
              "      <th>ProductRelated<\/th>\n",
              "      <th>ProductRelated_Duration<\/th>\n",
              "      <th>BounceRates<\/th>\n",
              "      <th>ExitRates<\/th>\n",
              "      <th>PageValues<\/th>\n",
              "      <th>SpecialDay<\/th>\n",
              "      <th>Month<\/th>\n",
              "      <th>OperatingSystems<\/th>\n",
              "      <th>Browser<\/th>\n",
              "      <th>Region<\/th>\n",
              "      <th>TrafficType<\/th>\n",
              "      <th>VisitorType<\/th>\n",
              "      <th>Weekend<\/th>\n",
              "      <th>Revenue<\/th>\n",
              "    <\/tr>\n",
              "  <\/thead>\n",
              "  <tbody>\n",
              "    <tr>\n",
              "      <th>0<\/th>\n",
              "      <td>0<\/td>\n",
              "      <td>0.0<\/td>\n",
              "      <td>0<\/td>\n",
              "      <td>0.0<\/td>\n",
              "      <td>1<\/td>\n",
              "      <td>0.000000<\/td>\n",
              "      <td>0.20<\/td>\n",
              "      <td>0.20<\/td>\n",
              "      <td>0.0<\/td>\n",
              "      <td>0.0<\/td>\n",
              "      <td>Feb<\/td>\n",
              "      <td>1<\/td>\n",
              "      <td>1<\/td>\n",
              "      <td>1<\/td>\n",
              "      <td>1<\/td>\n",
              "      <td>Returning_Visitor<\/td>\n",
              "      <td>False<\/td>\n",
              "      <td>False<\/td>\n",
              "    <\/tr>\n",
              "    <tr>\n",
              "      <th>1<\/th>\n",
              "      <td>0<\/td>\n",
              "      <td>0.0<\/td>\n",
              "      <td>0<\/td>\n",
              "      <td>0.0<\/td>\n",
              "      <td>2<\/td>\n",
              "      <td>64.000000<\/td>\n",
              "      <td>0.00<\/td>\n",
              "      <td>0.10<\/td>\n",
              "      <td>0.0<\/td>\n",
              "      <td>0.0<\/td>\n",
              "      <td>Feb<\/td>\n",
              "      <td>2<\/td>\n",
              "      <td>2<\/td>\n",
              "      <td>1<\/td>\n",
              "      <td>2<\/td>\n",
              "      <td>Returning_Visitor<\/td>\n",
              "      <td>False<\/td>\n",
              "      <td>False<\/td>\n",
              "    <\/tr>\n",
              "    <tr>\n",
              "      <th>2<\/th>\n",
              "      <td>0<\/td>\n",
              "      <td>0.0<\/td>\n",
              "      <td>0<\/td>\n",
              "      <td>0.0<\/td>\n",
              "      <td>1<\/td>\n",
              "      <td>0.000000<\/td>\n",
              "      <td>0.20<\/td>\n",
              "      <td>0.20<\/td>\n",
              "      <td>0.0<\/td>\n",
              "      <td>0.0<\/td>\n",
              "      <td>Feb<\/td>\n",
              "      <td>4<\/td>\n",
              "      <td>1<\/td>\n",
              "      <td>9<\/td>\n",
              "      <td>3<\/td>\n",
              "      <td>Returning_Visitor<\/td>\n",
              "      <td>False<\/td>\n",
              "      <td>False<\/td>\n",
              "    <\/tr>\n",
              "    <tr>\n",
              "      <th>3<\/th>\n",
              "      <td>0<\/td>\n",
              "      <td>0.0<\/td>\n",
              "      <td>0<\/td>\n",
              "      <td>0.0<\/td>\n",
              "      <td>2<\/td>\n",
              "      <td>2.666667<\/td>\n",
              "      <td>0.05<\/td>\n",
              "      <td>0.14<\/td>\n",
              "      <td>0.0<\/td>\n",
              "      <td>0.0<\/td>\n",
              "      <td>Feb<\/td>\n",
              "      <td>3<\/td>\n",
              "      <td>2<\/td>\n",
              "      <td>2<\/td>\n",
              "      <td>4<\/td>\n",
              "      <td>Returning_Visitor<\/td>\n",
              "      <td>False<\/td>\n",
              "      <td>False<\/td>\n",
              "    <\/tr>\n",
              "    <tr>\n",
              "      <th>4<\/th>\n",
              "      <td>0<\/td>\n",
              "      <td>0.0<\/td>\n",
              "      <td>0<\/td>\n",
              "      <td>0.0<\/td>\n",
              "      <td>10<\/td>\n",
              "      <td>627.500000<\/td>\n",
              "      <td>0.02<\/td>\n",
              "      <td>0.05<\/td>\n",
              "      <td>0.0<\/td>\n",
              "      <td>0.0<\/td>\n",
              "      <td>Feb<\/td>\n",
              "      <td>3<\/td>\n",
              "      <td>3<\/td>\n",
              "      <td>1<\/td>\n",
              "      <td>4<\/td>\n",
              "      <td>Returning_Visitor<\/td>\n",
              "      <td>True<\/td>\n",
              "      <td>False<\/td>\n",
              "    <\/tr>\n",
              "  <\/tbody>\n",
              "<\/table>\n",
              "<\/div>"
            ]
          },
          "metadata":{
            
          },
          "output_type":"display_data"
        }
      ],
      "metadata":{
        
      }
    },
    {
      "cell_type":"code",
      "source":[
        "# Cria o encoder\n",
        "lb = LabelEncoder()\n",
        "\n",
        "df_original['Month'] = lb.fit_transform(df_original['Month'])\n",
        "df_original['VisitorType'] = lb.fit_transform(df_original['VisitorType'])\n",
        "\n",
        "# Remove valores missing eventualmente gerados\n",
        "df_original.dropna(inplace=True)"
      ],
      "execution_count":25,
      "outputs":[
        
      ],
      "metadata":{
        
      }
    },
    {
      "cell_type":"code",
      "source":[
        "df_original.head()"
      ],
      "execution_count":26,
      "outputs":[
        {
          "data":{
            "text\/html":[
              "<div>\n",
              "<style scoped>\n",
              "    .dataframe tbody tr th:only-of-type {\n",
              "        vertical-align: middle;\n",
              "    }\n",
              "\n",
              "    .dataframe tbody tr th {\n",
              "        vertical-align: top;\n",
              "    }\n",
              "\n",
              "    .dataframe thead th {\n",
              "        text-align: right;\n",
              "    }\n",
              "<\/style>\n",
              "<table border=\"1\" class=\"dataframe\">\n",
              "  <thead>\n",
              "    <tr style=\"text-align: right;\">\n",
              "      <th><\/th>\n",
              "      <th>Administrative<\/th>\n",
              "      <th>Administrative_Duration<\/th>\n",
              "      <th>Informational<\/th>\n",
              "      <th>Informational_Duration<\/th>\n",
              "      <th>ProductRelated<\/th>\n",
              "      <th>ProductRelated_Duration<\/th>\n",
              "      <th>BounceRates<\/th>\n",
              "      <th>ExitRates<\/th>\n",
              "      <th>PageValues<\/th>\n",
              "      <th>SpecialDay<\/th>\n",
              "      <th>Month<\/th>\n",
              "      <th>OperatingSystems<\/th>\n",
              "      <th>Browser<\/th>\n",
              "      <th>Region<\/th>\n",
              "      <th>TrafficType<\/th>\n",
              "      <th>VisitorType<\/th>\n",
              "      <th>Weekend<\/th>\n",
              "      <th>Revenue<\/th>\n",
              "    <\/tr>\n",
              "  <\/thead>\n",
              "  <tbody>\n",
              "    <tr>\n",
              "      <th>0<\/th>\n",
              "      <td>0<\/td>\n",
              "      <td>0.0<\/td>\n",
              "      <td>0<\/td>\n",
              "      <td>0.0<\/td>\n",
              "      <td>1<\/td>\n",
              "      <td>0.000000<\/td>\n",
              "      <td>0.20<\/td>\n",
              "      <td>0.20<\/td>\n",
              "      <td>0.0<\/td>\n",
              "      <td>0.0<\/td>\n",
              "      <td>2<\/td>\n",
              "      <td>1<\/td>\n",
              "      <td>1<\/td>\n",
              "      <td>1<\/td>\n",
              "      <td>1<\/td>\n",
              "      <td>2<\/td>\n",
              "      <td>False<\/td>\n",
              "      <td>False<\/td>\n",
              "    <\/tr>\n",
              "    <tr>\n",
              "      <th>1<\/th>\n",
              "      <td>0<\/td>\n",
              "      <td>0.0<\/td>\n",
              "      <td>0<\/td>\n",
              "      <td>0.0<\/td>\n",
              "      <td>2<\/td>\n",
              "      <td>64.000000<\/td>\n",
              "      <td>0.00<\/td>\n",
              "      <td>0.10<\/td>\n",
              "      <td>0.0<\/td>\n",
              "      <td>0.0<\/td>\n",
              "      <td>2<\/td>\n",
              "      <td>2<\/td>\n",
              "      <td>2<\/td>\n",
              "      <td>1<\/td>\n",
              "      <td>2<\/td>\n",
              "      <td>2<\/td>\n",
              "      <td>False<\/td>\n",
              "      <td>False<\/td>\n",
              "    <\/tr>\n",
              "    <tr>\n",
              "      <th>2<\/th>\n",
              "      <td>0<\/td>\n",
              "      <td>0.0<\/td>\n",
              "      <td>0<\/td>\n",
              "      <td>0.0<\/td>\n",
              "      <td>1<\/td>\n",
              "      <td>0.000000<\/td>\n",
              "      <td>0.20<\/td>\n",
              "      <td>0.20<\/td>\n",
              "      <td>0.0<\/td>\n",
              "      <td>0.0<\/td>\n",
              "      <td>2<\/td>\n",
              "      <td>4<\/td>\n",
              "      <td>1<\/td>\n",
              "      <td>9<\/td>\n",
              "      <td>3<\/td>\n",
              "      <td>2<\/td>\n",
              "      <td>False<\/td>\n",
              "      <td>False<\/td>\n",
              "    <\/tr>\n",
              "    <tr>\n",
              "      <th>3<\/th>\n",
              "      <td>0<\/td>\n",
              "      <td>0.0<\/td>\n",
              "      <td>0<\/td>\n",
              "      <td>0.0<\/td>\n",
              "      <td>2<\/td>\n",
              "      <td>2.666667<\/td>\n",
              "      <td>0.05<\/td>\n",
              "      <td>0.14<\/td>\n",
              "      <td>0.0<\/td>\n",
              "      <td>0.0<\/td>\n",
              "      <td>2<\/td>\n",
              "      <td>3<\/td>\n",
              "      <td>2<\/td>\n",
              "      <td>2<\/td>\n",
              "      <td>4<\/td>\n",
              "      <td>2<\/td>\n",
              "      <td>False<\/td>\n",
              "      <td>False<\/td>\n",
              "    <\/tr>\n",
              "    <tr>\n",
              "      <th>4<\/th>\n",
              "      <td>0<\/td>\n",
              "      <td>0.0<\/td>\n",
              "      <td>0<\/td>\n",
              "      <td>0.0<\/td>\n",
              "      <td>10<\/td>\n",
              "      <td>627.500000<\/td>\n",
              "      <td>0.02<\/td>\n",
              "      <td>0.05<\/td>\n",
              "      <td>0.0<\/td>\n",
              "      <td>0.0<\/td>\n",
              "      <td>2<\/td>\n",
              "      <td>3<\/td>\n",
              "      <td>3<\/td>\n",
              "      <td>1<\/td>\n",
              "      <td>4<\/td>\n",
              "      <td>2<\/td>\n",
              "      <td>True<\/td>\n",
              "      <td>False<\/td>\n",
              "    <\/tr>\n",
              "  <\/tbody>\n",
              "<\/table>\n",
              "<\/div>"
            ]
          },
          "metadata":{
            
          },
          "output_type":"display_data"
        }
      ],
      "metadata":{
        
      }
    },
    {
      "cell_type":"code",
      "source":[
        "df_original.shape"
      ],
      "execution_count":27,
      "outputs":[
        {
          "data":{
            "text\/plain":[
              "(12330, 18)"
            ]
          },
          "metadata":{
            
          },
          "output_type":"display_data"
        }
      ],
      "metadata":{
        
      }
    },
    {
      "cell_type":"code",
      "source":[
        "# Verificando se a variável resposta está balanceda\n",
        "target_count = df_original.Revenue.value_counts()\n",
        "target_count"
      ],
      "execution_count":28,
      "outputs":[
        {
          "data":{
            "text\/plain":[
              "False    10422\n",
              "True      1908\n",
              "Name: Revenue, dtype: int64"
            ]
          },
          "metadata":{
            
          },
          "output_type":"display_data"
        }
      ],
      "metadata":{
        
      }
    },
    {
      "cell_type":"code",
      "source":[
        "# Plot\n",
        "sns.countplot(df_original.Revenue, palette=\"OrRd\")\n",
        "plt.box(False)"
      ],
      "execution_count":29,
      "outputs":[
        {
          "data":{
            "image\/png":"[encoded data removed]"
          },
          "metadata":{
            "image\/png":{
              "width":0,
              "height":0
            }
          },
          "output_type":"display_data"
        }
      ],
      "metadata":{
        
      }
    },
    {
      "cell_type":"code",
      "source":[
        "# Shape\n",
        "df_original.shape"
      ],
      "execution_count":30,
      "outputs":[
        {
          "data":{
            "text\/plain":[
              "(12330, 18)"
            ]
          },
          "metadata":{
            
          },
          "output_type":"display_data"
        }
      ],
      "metadata":{
        
      }
    },
    {
      "cell_type":"code",
      "source":[
        "# Variáveis explicativas\n",
        "df_original.iloc[:, 0:17].head()"
      ],
      "execution_count":31,
      "outputs":[
        {
          "data":{
            "text\/html":[
              "<div>\n",
              "<style scoped>\n",
              "    .dataframe tbody tr th:only-of-type {\n",
              "        vertical-align: middle;\n",
              "    }\n",
              "\n",
              "    .dataframe tbody tr th {\n",
              "        vertical-align: top;\n",
              "    }\n",
              "\n",
              "    .dataframe thead th {\n",
              "        text-align: right;\n",
              "    }\n",
              "<\/style>\n",
              "<table border=\"1\" class=\"dataframe\">\n",
              "  <thead>\n",
              "    <tr style=\"text-align: right;\">\n",
              "      <th><\/th>\n",
              "      <th>Administrative<\/th>\n",
              "      <th>Administrative_Duration<\/th>\n",
              "      <th>Informational<\/th>\n",
              "      <th>Informational_Duration<\/th>\n",
              "      <th>ProductRelated<\/th>\n",
              "      <th>ProductRelated_Duration<\/th>\n",
              "      <th>BounceRates<\/th>\n",
              "      <th>ExitRates<\/th>\n",
              "      <th>PageValues<\/th>\n",
              "      <th>SpecialDay<\/th>\n",
              "      <th>Month<\/th>\n",
              "      <th>OperatingSystems<\/th>\n",
              "      <th>Browser<\/th>\n",
              "      <th>Region<\/th>\n",
              "      <th>TrafficType<\/th>\n",
              "      <th>VisitorType<\/th>\n",
              "      <th>Weekend<\/th>\n",
              "    <\/tr>\n",
              "  <\/thead>\n",
              "  <tbody>\n",
              "    <tr>\n",
              "      <th>0<\/th>\n",
              "      <td>0<\/td>\n",
              "      <td>0.0<\/td>\n",
              "      <td>0<\/td>\n",
              "      <td>0.0<\/td>\n",
              "      <td>1<\/td>\n",
              "      <td>0.000000<\/td>\n",
              "      <td>0.20<\/td>\n",
              "      <td>0.20<\/td>\n",
              "      <td>0.0<\/td>\n",
              "      <td>0.0<\/td>\n",
              "      <td>2<\/td>\n",
              "      <td>1<\/td>\n",
              "      <td>1<\/td>\n",
              "      <td>1<\/td>\n",
              "      <td>1<\/td>\n",
              "      <td>2<\/td>\n",
              "      <td>False<\/td>\n",
              "    <\/tr>\n",
              "    <tr>\n",
              "      <th>1<\/th>\n",
              "      <td>0<\/td>\n",
              "      <td>0.0<\/td>\n",
              "      <td>0<\/td>\n",
              "      <td>0.0<\/td>\n",
              "      <td>2<\/td>\n",
              "      <td>64.000000<\/td>\n",
              "      <td>0.00<\/td>\n",
              "      <td>0.10<\/td>\n",
              "      <td>0.0<\/td>\n",
              "      <td>0.0<\/td>\n",
              "      <td>2<\/td>\n",
              "      <td>2<\/td>\n",
              "      <td>2<\/td>\n",
              "      <td>1<\/td>\n",
              "      <td>2<\/td>\n",
              "      <td>2<\/td>\n",
              "      <td>False<\/td>\n",
              "    <\/tr>\n",
              "    <tr>\n",
              "      <th>2<\/th>\n",
              "      <td>0<\/td>\n",
              "      <td>0.0<\/td>\n",
              "      <td>0<\/td>\n",
              "      <td>0.0<\/td>\n",
              "      <td>1<\/td>\n",
              "      <td>0.000000<\/td>\n",
              "      <td>0.20<\/td>\n",
              "      <td>0.20<\/td>\n",
              "      <td>0.0<\/td>\n",
              "      <td>0.0<\/td>\n",
              "      <td>2<\/td>\n",
              "      <td>4<\/td>\n",
              "      <td>1<\/td>\n",
              "      <td>9<\/td>\n",
              "      <td>3<\/td>\n",
              "      <td>2<\/td>\n",
              "      <td>False<\/td>\n",
              "    <\/tr>\n",
              "    <tr>\n",
              "      <th>3<\/th>\n",
              "      <td>0<\/td>\n",
              "      <td>0.0<\/td>\n",
              "      <td>0<\/td>\n",
              "      <td>0.0<\/td>\n",
              "      <td>2<\/td>\n",
              "      <td>2.666667<\/td>\n",
              "      <td>0.05<\/td>\n",
              "      <td>0.14<\/td>\n",
              "      <td>0.0<\/td>\n",
              "      <td>0.0<\/td>\n",
              "      <td>2<\/td>\n",
              "      <td>3<\/td>\n",
              "      <td>2<\/td>\n",
              "      <td>2<\/td>\n",
              "      <td>4<\/td>\n",
              "      <td>2<\/td>\n",
              "      <td>False<\/td>\n",
              "    <\/tr>\n",
              "    <tr>\n",
              "      <th>4<\/th>\n",
              "      <td>0<\/td>\n",
              "      <td>0.0<\/td>\n",
              "      <td>0<\/td>\n",
              "      <td>0.0<\/td>\n",
              "      <td>10<\/td>\n",
              "      <td>627.500000<\/td>\n",
              "      <td>0.02<\/td>\n",
              "      <td>0.05<\/td>\n",
              "      <td>0.0<\/td>\n",
              "      <td>0.0<\/td>\n",
              "      <td>2<\/td>\n",
              "      <td>3<\/td>\n",
              "      <td>3<\/td>\n",
              "      <td>1<\/td>\n",
              "      <td>4<\/td>\n",
              "      <td>2<\/td>\n",
              "      <td>True<\/td>\n",
              "    <\/tr>\n",
              "  <\/tbody>\n",
              "<\/table>\n",
              "<\/div>"
            ]
          },
          "metadata":{
            
          },
          "output_type":"display_data"
        }
      ],
      "metadata":{
        
      }
    },
    {
      "cell_type":"code",
      "source":[
        "# Variável Target\n",
        "df_original.iloc[:, 17].head()"
      ],
      "execution_count":32,
      "outputs":[
        {
          "data":{
            "text\/plain":[
              "0    False\n",
              "1    False\n",
              "2    False\n",
              "3    False\n",
              "4    False\n",
              "Name: Revenue, dtype: bool"
            ]
          },
          "metadata":{
            
          },
          "output_type":"display_data"
        }
      ],
      "metadata":{
        
      }
    },
    {
      "cell_type":"markdown",
      "source":[
        "### Balanceamento de Classe - Oversampling"
      ],
      "metadata":{
        
      }
    },
    {
      "cell_type":"code",
      "source":[
        "# Balanceando as classes\n",
        "seed = 100\n",
        "\n",
        "# Separa X e y\n",
        "X = df_original.iloc[:, 0:17]\n",
        "y = df_original.iloc[:, 17]\n",
        "\n",
        "# Cria o balanceador SMOTE\n",
        "smote_bal = SMOTE(random_state = seed)\n",
        "\n",
        "# Aplica o balanceador\n",
        "X_res, y_res = smote_bal.fit_resample(X, y)"
      ],
      "execution_count":33,
      "outputs":[
        
      ],
      "metadata":{
        
      }
    },
    {
      "cell_type":"code",
      "source":[
        "# Plot \n",
        "sns.countplot(y_res, palette=\"OrRd\")\n",
        "plt.box(False)\n",
        "plt.xlabel('Receita (Revenue) por Sessão Não (0) \/ Sim (1)', fontsize = 11)\n",
        "plt.ylabel('Total Sessões', fontsize = 11)\n",
        "plt.title('Contagem de Classes\\n')\n",
        "plt.show()"
      ],
      "execution_count":34,
      "outputs":[
        {
          "data":{
            "image\/png":"[encoded data removed]"
          },
          "metadata":{
            "image\/png":{
              "width":0,
              "height":0
            }
          },
          "output_type":"display_data"
        }
      ],
      "metadata":{
        
      }
    },
    {
      "cell_type":"code",
      "source":[
        "# Ajsutando X e y\n",
        "X = X_res\n",
        "y = y_res"
      ],
      "execution_count":35,
      "outputs":[
        
      ],
      "metadata":{
        
      }
    },
    {
      "cell_type":"code",
      "source":[
        "# Divisão em dados de Treino e Teste\n",
        "X_treino, X_teste, y_treino, y_teste = train_test_split(X, y, test_size = 0.3, random_state= 42)"
      ],
      "execution_count":36,
      "outputs":[
        
      ],
      "metadata":{
        
      }
    },
    {
      "cell_type":"markdown",
      "source":[
        "## Modelo SVM"
      ],
      "metadata":{
        
      }
    },
    {
      "cell_type":"markdown",
      "source":[
        "### Modelo com Kernel Linear e Dados Padronizados (Scaled)"
      ],
      "metadata":{
        
      }
    },
    {
      "cell_type":"code",
      "source":[
        "# Padronização\n",
        "X_treino_scaled = StandardScaler().fit_transform(X_treino)\n",
        "X_teste_scaled = StandardScaler().fit_transform(X_teste)"
      ],
      "execution_count":37,
      "outputs":[
        
      ],
      "metadata":{
        
      }
    },
    {
      "cell_type":"code",
      "source":[
        "# Cria o modelo\n",
        "modelo_v1 = svm.SVC(kernel = 'linear')"
      ],
      "execution_count":38,
      "outputs":[
        
      ],
      "metadata":{
        
      }
    },
    {
      "cell_type":"code",
      "source":[
        "# Treinamento\n",
        "start = time.time()\n",
        "modelo_v1.fit(X_treino_scaled, y_treino)\n",
        "end = time.time()\n",
        "print(f\"Tempo de Treinamento do Modelo: {end - start}\")"
      ],
      "execution_count":39,
      "outputs":[
        {
          "name":"stdout",
          "text":[
            "Tempo de Treinamento do Modelo: 7.428783893585205\n"
          ],
          "output_type":"stream"
        }
      ],
      "metadata":{
        
      }
    },
    {
      "cell_type":"code",
      "source":[
        "# Previsões\n",
        "previsoes_v1 = modelo_v1.predict(X_teste_scaled)"
      ],
      "execution_count":40,
      "outputs":[
        
      ],
      "metadata":{
        
      }
    },
    {
      "cell_type":"code",
      "source":[
        "# Dicionário de métricas e metadados\n",
        "SVM_dict_v1 = {'Modelo':'SVM',\n",
        "               'Versão':'1',\n",
        "               'Kernel':'Linear com Dados Padronizados',\n",
        "               'Precision':precision_score(previsoes_v1, y_teste),\n",
        "               'Recall':recall_score(previsoes_v1, y_teste),\n",
        "               'F1 Score':f1_score(previsoes_v1, y_teste),\n",
        "               'Acurácia':accuracy_score(previsoes_v1, y_teste),\n",
        "               'AUC':roc_auc_score(y_teste, previsoes_v1)\n",
        "               }"
      ],
      "execution_count":41,
      "outputs":[
        
      ],
      "metadata":{
        
      }
    },
    {
      "cell_type":"code",
      "source":[
        "print(\"Métricas em teste:\\n\")\n",
        "SVM_dict_v1"
      ],
      "execution_count":42,
      "outputs":[
        {
          "name":"stdout",
          "text":[
            "Métricas em teste:\n",
            "\n"
          ],
          "output_type":"stream"
        },
        {
          "data":{
            "text\/plain":[
              "{'Modelo': 'SVM',\n",
              " 'Versão': '1',\n",
              " 'Kernel': 'Linear com Dados Padronizados',\n",
              " 'Precision': 0.7876077930373683,\n",
              " 'Recall': 0.8905742145178764,\n",
              " 'F1 Score': 0.8359322033898304,\n",
              " 'Acurácia': 0.8452190598017268,\n",
              " 'AUC': 0.8452928494485592}"
            ]
          },
          "metadata":{
            
          },
          "output_type":"display_data"
        }
      ],
      "metadata":{
        
      }
    },
    {
      "cell_type":"markdown",
      "source":[
        "### Otimização de Hiperparâmetros com Grid Search e Kernel RBF "
      ],
      "metadata":{
        
      }
    },
    {
      "cell_type":"code",
      "source":[
        "# Cria o modelo \n",
        "modelo_v2 = svm.SVC(kernel = 'rbf')\n",
        "\n",
        "# Valores para o grid\n",
        "C_range = np.array([50., 100., 200.])\n",
        "gamma_range = np.array([0.3 * 0.001, 0.001, 3 * 0.001])\n",
        "\n",
        "# Grid de Hiperparâmtros\n",
        "svm_param_grid = dict(gamma = gamma_range, C = C_range)\n",
        "\n",
        "# Grid Search\n",
        "start = time.time()\n",
        "modelo_v2_grid_search_rbf = GridSearchCV(modelo_v2, svm_param_grid, cv = 3)\n",
        "\n",
        "# Treinamento\n",
        "modelo_v2_grid_search_rbf.fit(X_treino_scaled, y_treino)\n",
        "end = time.time()\n",
        "print(f\"Tempo de Treinamento do Modelo com Grid Search: {end - start}\")\n",
        "\n",
        "# Acurácia em Treino\n",
        "print(f\"Acurácia em Treinamento: {modelo_v2_grid_search_rbf.best_score_ :.2%}\")\n",
        "print(\"\")\n",
        "print(f\"Hiperparâmetros Ideais: {modelo_v2_grid_search_rbf.best_params_}\")"
      ],
      "execution_count":43,
      "outputs":[
        {
          "name":"stdout",
          "text":[
            "Tempo de Treinamento do Modelo com Grid Search: 113.07218027114868\n",
            "Acurácia em Treinamento: 87.15%\n",
            "\n",
            "Hiperparâmetros Ideais: {'C': 200.0, 'gamma': 0.003}\n"
          ],
          "output_type":"stream"
        }
      ],
      "metadata":{
        
      }
    },
    {
      "cell_type":"code",
      "source":[
        "# Previsões\n",
        "previsoes_v2 = modelo_v2_grid_search_rbf.predict(X_teste_scaled)"
      ],
      "execution_count":44,
      "outputs":[
        
      ],
      "metadata":{
        
      }
    },
    {
      "cell_type":"code",
      "source":[
        "# Dicionário de métricas e metadados\n",
        "SVM_dict_v2 = {'Modelo':'SVM',\n",
        "               'Versão':'2',\n",
        "               'Kernel':'RBF com Dados Padronizados',\n",
        "               'Precision':precision_score(previsoes_v2, y_teste),\n",
        "               'Recall':recall_score(previsoes_v2, y_teste),\n",
        "               'F1 Score':f1_score(previsoes_v2, y_teste),\n",
        "               'Acurácia':accuracy_score(previsoes_v2, y_teste),\n",
        "               'AUC':roc_auc_score(y_teste, previsoes_v2)\n",
        "              }"
      ],
      "execution_count":45,
      "outputs":[
        
      ],
      "metadata":{
        
      }
    },
    {
      "cell_type":"code",
      "source":[
        "print(\"Métricas em Teste:\\n\")\n",
        "SVM_dict_v2"
      ],
      "execution_count":46,
      "outputs":[
        {
          "name":"stdout",
          "text":[
            "Métricas em Teste:\n",
            "\n"
          ],
          "output_type":"stream"
        },
        {
          "data":{
            "text\/plain":[
              "{'Modelo': 'SVM',\n",
              " 'Versão': '2',\n",
              " 'Kernel': 'RBF com Dados Padronizados',\n",
              " 'Precision': 0.8489300542957522,\n",
              " 'Recall': 0.9031600407747197,\n",
              " 'F1 Score': 0.8752057951926243,\n",
              " 'Acurácia': 0.8787975695554845,\n",
              " 'AUC': 0.8788358244581546}"
            ]
          },
          "metadata":{
            
          },
          "output_type":"display_data"
        }
      ],
      "metadata":{
        
      }
    },
    {
      "cell_type":"markdown",
      "source":[
        "### Otimização de Hiperpâmetros com Grid Search e Kernel Polinomial"
      ],
      "metadata":{
        
      }
    },
    {
      "cell_type":"code",
      "source":[
        "# Cria o modelo\n",
        "modelo_v3 = svm.SVC(kernel  = 'poly')\n",
        "\n",
        "# Valores para o Grid\n",
        "r_range = np.array([0.5, 1])\n",
        "gamma_range = np.array([0.001, 0.01])\n",
        "d_range = np.array([2, 3, 4])\n",
        "\n",
        "# Grid de Hiperparâmetros\n",
        "param_grid_poly = dict(gamma = gamma_range, degree = d_range, coef0 = r_range)\n",
        "\n",
        "# Grid Search\n",
        "start = time.time()\n",
        "modelo_v3_grid_search_poly = GridSearchCV(modelo_v3, param_grid_poly, cv = 3)\n",
        "\n",
        "# Treinamento\n",
        "modelo_v3_grid_search_poly.fit(X_treino_scaled, y_treino)\n",
        "end = time.time()\n",
        "\n",
        "# Acurácia em Treino\n",
        "print(f\"Acurácia em Treinamento: {modelo_v3_grid_search_poly.best_score_ :.2%}\")\n",
        "print(\"\")\n",
        "print(f\"Hiperparâmetros Ideais: {modelo_v3_grid_search_poly.best_params_}\")"
      ],
      "execution_count":47,
      "outputs":[
        {
          "name":"stdout",
          "text":[
            "Acurácia em Treinamento: 85.81%\n",
            "\n",
            "Hiperparâmetros Ideais: {'coef0': 1.0, 'degree': 4, 'gamma': 0.01}\n"
          ],
          "output_type":"stream"
        }
      ],
      "metadata":{
        
      }
    },
    {
      "cell_type":"code",
      "source":[
        "# Previsões\n",
        "previsoes_v3 = modelo_v3_grid_search_poly.predict(X_teste_scaled)"
      ],
      "execution_count":48,
      "outputs":[
        
      ],
      "metadata":{
        
      }
    },
    {
      "cell_type":"code",
      "source":[
        "# Dicionário de métricas e metadados\n",
        "SVM_dict_v3 = {'Modelo':'SVM',\n",
        "               'Versão':'3',\n",
        "               'Kernel':'Polinomial com Dados Padronizados',\n",
        "               'Precision':precision_score(previsoes_v3, y_teste),\n",
        "               'Recall':recall_score(previsoes_v3, y_teste),\n",
        "               'F1 Score':f1_score(previsoes_v3, y_teste),\n",
        "               'Acurácia':accuracy_score(previsoes_v3, y_teste),\n",
        "               'AUC':roc_auc_score(y_teste, previsoes_v3)\n",
        "              }"
      ],
      "execution_count":49,
      "outputs":[
        
      ],
      "metadata":{
        
      }
    },
    {
      "cell_type":"code",
      "source":[
        "# Print\n",
        "print(\"Métricas em Teste:\\n\")\n",
        "SVM_dict_v3"
      ],
      "execution_count":50,
      "outputs":[
        {
          "name":"stdout",
          "text":[
            "Métricas em Teste:\n",
            "\n"
          ],
          "output_type":"stream"
        },
        {
          "data":{
            "text\/plain":[
              "{'Modelo': 'SVM',\n",
              " 'Versão': '3',\n",
              " 'Kernel': 'Polinomial com Dados Padronizados',\n",
              " 'Precision': 0.8153944426700734,\n",
              " 'Recall': 0.9014830508474576,\n",
              " 'F1 Score': 0.8562803957739392,\n",
              " 'Acurácia': 0.8629677006715702,\n",
              " 'AUC': 0.8630286334387831}"
            ]
          },
          "metadata":{
            
          },
          "output_type":"display_data"
        }
      ],
      "metadata":{
        
      }
    },
    {
      "cell_type":"code",
      "source":[
        "# Concatena todos os dicionários em um dataframe do Pandas\n",
        "resumo = pd.DataFrame({'SVM_dict_v1':pd.Series(SVM_dict_v1),\n",
        "                       'SVM_dict_v2':pd.Series(SVM_dict_v2),\n",
        "                       'SVM_dict_v3':pd.Series(SVM_dict_v3)})"
      ],
      "execution_count":51,
      "outputs":[
        
      ],
      "metadata":{
        
      }
    },
    {
      "cell_type":"code",
      "source":[
        "resumo"
      ],
      "execution_count":52,
      "outputs":[
        {
          "data":{
            "text\/html":[
              "<div>\n",
              "<style scoped>\n",
              "    .dataframe tbody tr th:only-of-type {\n",
              "        vertical-align: middle;\n",
              "    }\n",
              "\n",
              "    .dataframe tbody tr th {\n",
              "        vertical-align: top;\n",
              "    }\n",
              "\n",
              "    .dataframe thead th {\n",
              "        text-align: right;\n",
              "    }\n",
              "<\/style>\n",
              "<table border=\"1\" class=\"dataframe\">\n",
              "  <thead>\n",
              "    <tr style=\"text-align: right;\">\n",
              "      <th><\/th>\n",
              "      <th>SVM_dict_v1<\/th>\n",
              "      <th>SVM_dict_v2<\/th>\n",
              "      <th>SVM_dict_v3<\/th>\n",
              "    <\/tr>\n",
              "  <\/thead>\n",
              "  <tbody>\n",
              "    <tr>\n",
              "      <th>Modelo<\/th>\n",
              "      <td>SVM<\/td>\n",
              "      <td>SVM<\/td>\n",
              "      <td>SVM<\/td>\n",
              "    <\/tr>\n",
              "    <tr>\n",
              "      <th>Versão<\/th>\n",
              "      <td>1<\/td>\n",
              "      <td>2<\/td>\n",
              "      <td>3<\/td>\n",
              "    <\/tr>\n",
              "    <tr>\n",
              "      <th>Kernel<\/th>\n",
              "      <td>Linear com Dados Padronizados<\/td>\n",
              "      <td>RBF com Dados Padronizados<\/td>\n",
              "      <td>Polinomial com Dados Padronizados<\/td>\n",
              "    <\/tr>\n",
              "    <tr>\n",
              "      <th>Precision<\/th>\n",
              "      <td>0.787608<\/td>\n",
              "      <td>0.84893<\/td>\n",
              "      <td>0.815394<\/td>\n",
              "    <\/tr>\n",
              "    <tr>\n",
              "      <th>Recall<\/th>\n",
              "      <td>0.890574<\/td>\n",
              "      <td>0.90316<\/td>\n",
              "      <td>0.901483<\/td>\n",
              "    <\/tr>\n",
              "    <tr>\n",
              "      <th>F1 Score<\/th>\n",
              "      <td>0.835932<\/td>\n",
              "      <td>0.875206<\/td>\n",
              "      <td>0.85628<\/td>\n",
              "    <\/tr>\n",
              "    <tr>\n",
              "      <th>Acurácia<\/th>\n",
              "      <td>0.845219<\/td>\n",
              "      <td>0.878798<\/td>\n",
              "      <td>0.862968<\/td>\n",
              "    <\/tr>\n",
              "    <tr>\n",
              "      <th>AUC<\/th>\n",
              "      <td>0.845293<\/td>\n",
              "      <td>0.878836<\/td>\n",
              "      <td>0.863029<\/td>\n",
              "    <\/tr>\n",
              "  <\/tbody>\n",
              "<\/table>\n",
              "<\/div>"
            ]
          },
          "metadata":{
            
          },
          "output_type":"display_data"
        }
      ],
      "metadata":{
        
      }
    },
    {
      "cell_type":"markdown",
      "source":[
        "### Fazendo Previsões com o Modelo Treinando"
      ],
      "metadata":{
        
      }
    },
    {
      "cell_type":"code",
      "source":[
        "# Novo Registro\n",
        "novo_x = np.array([4.0, 5.56, 1.0, 3.78, 2.995, 6.00, 0.69, 0.70, 0.69, 0, 6, 1, 1, 3, 3, 2, False]).reshape(1, -1)"
      ],
      "execution_count":53,
      "outputs":[
        
      ],
      "metadata":{
        
      }
    },
    {
      "cell_type":"code",
      "source":[
        "# Padronizando o Registro\n",
        "novo_x_scaled = StandardScaler().fit_transform(novo_x)"
      ],
      "execution_count":54,
      "outputs":[
        
      ],
      "metadata":{
        
      }
    },
    {
      "cell_type":"code",
      "source":[
        "# Previsão\n",
        "previsao_novo_x = modelo_v2_grid_search_rbf.predict(novo_x_scaled)"
      ],
      "execution_count":55,
      "outputs":[
        
      ],
      "metadata":{
        
      }
    },
    {
      "cell_type":"code",
      "source":[
        "previsao_novo_x"
      ],
      "execution_count":56,
      "outputs":[
        {
          "data":{
            "text\/plain":[
              "array([ True])"
            ]
          },
          "metadata":{
            
          },
          "output_type":"display_data"
        }
      ],
      "metadata":{
        
      }
    },
    {
      "cell_type":"markdown",
      "source":[
        "## FIM"
      ],
      "metadata":{
        
      }
    }
  ],
  "metadata":{
    
  },
  "nbformat":4,
  "nbformat_minor":0
}